{
  "nbformat": 4,
  "nbformat_minor": 0,
  "metadata": {
    "colab": {
      "provenance": [],
      "authorship_tag": "ABX9TyO6oHg6QK5oCPcGQKXUaMr2",
      "include_colab_link": true
    },
    "kernelspec": {
      "name": "python3",
      "display_name": "Python 3"
    },
    "language_info": {
      "name": "python"
    }
  },
  "cells": [
    {
      "cell_type": "markdown",
      "metadata": {
        "id": "view-in-github",
        "colab_type": "text"
      },
      "source": [
        "<a href=\"https://colab.research.google.com/github/mrshahabian/Yolov7/blob/main/Kaggle_setup.ipynb\" target=\"_parent\"><img src=\"https://colab.research.google.com/assets/colab-badge.svg\" alt=\"Open In Colab\"/></a>"
      ]
    },
    {
      "cell_type": "code",
      "execution_count": 1,
      "metadata": {
        "colab": {
          "base_uri": "https://localhost:8080/"
        },
        "id": "J-7oFHNl34Fi",
        "outputId": "6c38b372-8588-4bd9-e2fe-a0e98f33eae6"
      },
      "outputs": [
        {
          "output_type": "stream",
          "name": "stdout",
          "text": [
            "Looking in indexes: https://pypi.org/simple, https://us-python.pkg.dev/colab-wheels/public/simple/\n",
            "Requirement already satisfied: kaggle in /usr/local/lib/python3.7/dist-packages (1.5.12)\n",
            "Requirement already satisfied: tqdm in /usr/local/lib/python3.7/dist-packages (from kaggle) (4.64.1)\n",
            "Requirement already satisfied: python-dateutil in /usr/local/lib/python3.7/dist-packages (from kaggle) (2.8.2)\n",
            "Requirement already satisfied: certifi in /usr/local/lib/python3.7/dist-packages (from kaggle) (2022.6.15)\n",
            "Requirement already satisfied: requests in /usr/local/lib/python3.7/dist-packages (from kaggle) (2.23.0)\n",
            "Requirement already satisfied: python-slugify in /usr/local/lib/python3.7/dist-packages (from kaggle) (6.1.2)\n",
            "Requirement already satisfied: six>=1.10 in /usr/local/lib/python3.7/dist-packages (from kaggle) (1.15.0)\n",
            "Requirement already satisfied: urllib3 in /usr/local/lib/python3.7/dist-packages (from kaggle) (1.24.3)\n",
            "Requirement already satisfied: text-unidecode>=1.3 in /usr/local/lib/python3.7/dist-packages (from python-slugify->kaggle) (1.3)\n",
            "Requirement already satisfied: idna<3,>=2.5 in /usr/local/lib/python3.7/dist-packages (from requests->kaggle) (2.10)\n",
            "Requirement already satisfied: chardet<4,>=3.0.2 in /usr/local/lib/python3.7/dist-packages (from requests->kaggle) (3.0.4)\n"
          ]
        }
      ],
      "source": [
        "! pip install kaggle"
      ]
    },
    {
      "cell_type": "code",
      "source": [
        "! mkdir ~/.kaggle"
      ],
      "metadata": {
        "id": "fZpoIuW84ut1"
      },
      "execution_count": 2,
      "outputs": []
    },
    {
      "cell_type": "code",
      "source": [
        "! cp kaggle.json ~/.kaggle/"
      ],
      "metadata": {
        "id": "12O6Rh3f4ztf"
      },
      "execution_count": 3,
      "outputs": []
    },
    {
      "cell_type": "code",
      "source": [
        "! chmod 600 ~/.kaggle/kaggle.json"
      ],
      "metadata": {
        "id": "PWZ3v_O248Lb"
      },
      "execution_count": 5,
      "outputs": []
    },
    {
      "cell_type": "code",
      "source": [
        "from google.colab import drive\n",
        "import torch\n",
        "drive.mount('/content/drive')"
      ],
      "metadata": {
        "colab": {
          "base_uri": "https://localhost:8080/"
        },
        "id": "MqN3LtK45OYe",
        "outputId": "e0932ddc-2ed4-494d-a1bf-9cd679c76bf7"
      },
      "execution_count": 6,
      "outputs": [
        {
          "output_type": "stream",
          "name": "stdout",
          "text": [
            "Mounted at /content/drive\n"
          ]
        }
      ]
    },
    {
      "cell_type": "code",
      "source": [
        "%cd /content/drive/MyDrive/Datasets"
      ],
      "metadata": {
        "colab": {
          "base_uri": "https://localhost:8080/"
        },
        "id": "Bnk6ILbY5V-K",
        "outputId": "3f3847f9-0ef2-469f-d18e-66fa36524088"
      },
      "execution_count": 9,
      "outputs": [
        {
          "output_type": "stream",
          "name": "stdout",
          "text": [
            "/content/drive/MyDrive/Datasets\n"
          ]
        }
      ]
    },
    {
      "cell_type": "code",
      "source": [
        "import os\n",
        "if not os.path.isdir(\"DFL\"):\n",
        "  os.makedirs(\"DFL\")"
      ],
      "metadata": {
        "id": "BYrtUmSN5Yyo"
      },
      "execution_count": 10,
      "outputs": []
    },
    {
      "cell_type": "code",
      "source": [
        "%cd DFL"
      ],
      "metadata": {
        "id": "elkQJSZG-Rop"
      },
      "execution_count": null,
      "outputs": []
    },
    {
      "cell_type": "code",
      "source": [
        "! kaggle competitions download dfl-bundesliga-data-shootout"
      ],
      "metadata": {
        "colab": {
          "base_uri": "https://localhost:8080/"
        },
        "id": "cDlEzSQe5Ift",
        "outputId": "fd78d30d-73e5-4c0d-b985-366691c0f3c2"
      },
      "execution_count": 12,
      "outputs": [
        {
          "output_type": "stream",
          "name": "stdout",
          "text": [
            "Downloading dfl-bundesliga-data-shootout.zip to /content/drive/MyDrive/Datasets\n",
            "100% 34.9G/34.9G [05:54<00:00, 163MB/s]\n",
            "100% 34.9G/34.9G [05:54<00:00, 106MB/s]\n"
          ]
        }
      ]
    },
    {
      "cell_type": "code",
      "source": [
        "!unzip dfl-bundesliga-data-shootout.zip"
      ],
      "metadata": {
        "colab": {
          "base_uri": "https://localhost:8080/"
        },
        "id": "rOvA11vS5nTg",
        "outputId": "ff08dcdb-3921-46c0-884e-2885a9991a43"
      },
      "execution_count": 19,
      "outputs": [
        {
          "output_type": "stream",
          "name": "stdout",
          "text": [
            "Archive:  dfl-bundesliga-data-shootout.zip\n",
            "  inflating: clips/08fd33_0.mp4      \n",
            "  inflating: clips/08fd33_1.mp4      \n",
            "  inflating: clips/08fd33_2.mp4      \n",
            "  inflating: clips/08fd33_3.mp4      \n",
            "  inflating: clips/08fd33_4.mp4      \n",
            "  inflating: clips/08fd33_5.mp4      \n",
            "  inflating: clips/08fd33_6.mp4      \n",
            "  inflating: clips/08fd33_7.mp4      \n",
            "  inflating: clips/08fd33_8.mp4      \n",
            "  inflating: clips/08fd33_9.mp4      \n",
            "  inflating: clips/0a2d9b_0.mp4      \n",
            "  inflating: clips/0a2d9b_1.mp4      \n",
            "  inflating: clips/0a2d9b_2.mp4      \n",
            "  inflating: clips/0a2d9b_3.mp4      \n",
            "  inflating: clips/0a2d9b_4.mp4      \n",
            "  inflating: clips/0a2d9b_5.mp4      \n",
            "  inflating: clips/0a2d9b_6.mp4      \n",
            "  inflating: clips/0a2d9b_7.mp4      \n",
            "  inflating: clips/0a2d9b_8.mp4      \n",
            "  inflating: clips/0a2d9b_9.mp4      \n",
            "  inflating: clips/0bfacc_0.mp4      \n",
            "  inflating: clips/0bfacc_1.mp4      \n",
            "  inflating: clips/0bfacc_2.mp4      \n",
            "  inflating: clips/0bfacc_3.mp4      \n",
            "  inflating: clips/0bfacc_4.mp4      \n",
            "  inflating: clips/0bfacc_5.mp4      \n",
            "  inflating: clips/0bfacc_6.mp4      \n",
            "  inflating: clips/0bfacc_7.mp4      \n",
            "  inflating: clips/0bfacc_8.mp4      \n",
            "  inflating: clips/0bfacc_9.mp4      \n",
            "  inflating: clips/121364_0.mp4      \n",
            "  inflating: clips/121364_1.mp4      \n",
            "  inflating: clips/121364_2.mp4      \n",
            "  inflating: clips/121364_3.mp4      \n",
            "  inflating: clips/121364_4.mp4      \n",
            "  inflating: clips/121364_5.mp4      \n",
            "  inflating: clips/121364_6.mp4      \n",
            "  inflating: clips/121364_7.mp4      \n",
            "  inflating: clips/121364_8.mp4      \n",
            "  inflating: clips/121364_9.mp4      \n",
            "  inflating: clips/2e57b9_0.mp4      \n",
            "  inflating: clips/2e57b9_1.mp4      \n",
            "  inflating: clips/2e57b9_2.mp4      \n",
            "  inflating: clips/2e57b9_3.mp4      \n",
            "  inflating: clips/2e57b9_4.mp4      \n",
            "  inflating: clips/2e57b9_5.mp4      \n",
            "  inflating: clips/2e57b9_6.mp4      \n",
            "  inflating: clips/2e57b9_7.mp4      \n",
            "  inflating: clips/2e57b9_8.mp4      \n",
            "  inflating: clips/2e57b9_9.mp4      \n",
            "  inflating: clips/40cd38_0.mp4      \n",
            "  inflating: clips/40cd38_1.mp4      \n",
            "  inflating: clips/40cd38_2.mp4      \n",
            "  inflating: clips/40cd38_3.mp4      \n",
            "  inflating: clips/40cd38_4.mp4      \n",
            "  inflating: clips/40cd38_5.mp4      \n",
            "  inflating: clips/40cd38_6.mp4      \n",
            "  inflating: clips/40cd38_7.mp4      \n",
            "  inflating: clips/40cd38_8.mp4      \n",
            "  inflating: clips/40cd38_9.mp4      \n",
            "  inflating: clips/42ba34_0.mp4      \n",
            "  inflating: clips/42ba34_1.mp4      \n",
            "  inflating: clips/42ba34_2.mp4      \n",
            "  inflating: clips/42ba34_3.mp4      \n",
            "  inflating: clips/42ba34_4.mp4      \n",
            "  inflating: clips/42ba34_5.mp4      \n",
            "  inflating: clips/42ba34_6.mp4      \n",
            "  inflating: clips/42ba34_7.mp4      \n",
            "  inflating: clips/42ba34_8.mp4      \n",
            "  inflating: clips/42ba34_9.mp4      \n",
            "  inflating: clips/4b770a_0.mp4      \n",
            "  inflating: clips/4b770a_1.mp4      \n",
            "  inflating: clips/4b770a_2.mp4      \n",
            "  inflating: clips/4b770a_3.mp4      \n",
            "  inflating: clips/4b770a_4.mp4      \n",
            "  inflating: clips/4b770a_5.mp4      \n",
            "  inflating: clips/4b770a_6.mp4      \n",
            "  inflating: clips/4b770a_7.mp4      \n",
            "  inflating: clips/4b770a_8.mp4      \n",
            "  inflating: clips/4b770a_9.mp4      \n",
            "  inflating: clips/538438_0.mp4      \n",
            "  inflating: clips/538438_1.mp4      \n",
            "  inflating: clips/538438_2.mp4      \n",
            "  inflating: clips/538438_3.mp4      \n",
            "  inflating: clips/538438_4.mp4      \n",
            "  inflating: clips/538438_5.mp4      \n",
            "  inflating: clips/538438_6.mp4      \n",
            "  inflating: clips/538438_7.mp4      \n",
            "  inflating: clips/538438_8.mp4      \n",
            "  inflating: clips/538438_9.mp4      \n",
            "  inflating: clips/54745b_0.mp4      \n",
            "  inflating: clips/54745b_1.mp4      \n",
            "  inflating: clips/54745b_2.mp4      \n",
            "  inflating: clips/54745b_3.mp4      \n",
            "  inflating: clips/54745b_4.mp4      \n",
            "  inflating: clips/54745b_5.mp4      \n",
            "  inflating: clips/54745b_6.mp4      \n",
            "  inflating: clips/54745b_7.mp4      \n",
            "  inflating: clips/54745b_8.mp4      \n",
            "  inflating: clips/54745b_9.mp4      \n",
            "  inflating: clips/55c9d1_0.mp4      \n",
            "  inflating: clips/55c9d1_1.mp4      \n",
            "  inflating: clips/55c9d1_2.mp4      \n",
            "  inflating: clips/55c9d1_3.mp4      \n",
            "  inflating: clips/55c9d1_4.mp4      \n",
            "  inflating: clips/55c9d1_5.mp4      \n",
            "  inflating: clips/55c9d1_6.mp4      \n",
            "  inflating: clips/55c9d1_7.mp4      \n",
            "  inflating: clips/55c9d1_8.mp4      \n",
            "  inflating: clips/55c9d1_9.mp4      \n",
            "  inflating: clips/573e61_0.mp4      \n",
            "  inflating: clips/573e61_1.mp4      \n",
            "  inflating: clips/573e61_2.mp4      \n",
            "  inflating: clips/573e61_3.mp4      \n",
            "  inflating: clips/573e61_4.mp4      \n",
            "  inflating: clips/573e61_5.mp4      \n",
            "  inflating: clips/573e61_6.mp4      \n",
            "  inflating: clips/573e61_7.mp4      \n",
            "  inflating: clips/573e61_8.mp4      \n",
            "  inflating: clips/573e61_9.mp4      \n",
            "  inflating: clips/744b27_0.mp4      \n",
            "  inflating: clips/744b27_1.mp4      \n",
            "  inflating: clips/744b27_2.mp4      \n",
            "  inflating: clips/744b27_3.mp4      \n",
            "  inflating: clips/744b27_4.mp4      \n",
            "  inflating: clips/744b27_5.mp4      \n",
            "  inflating: clips/744b27_6.mp4      \n",
            "  inflating: clips/744b27_7.mp4      \n",
            "  inflating: clips/744b27_8.mp4      \n",
            "  inflating: clips/744b27_9.mp4      \n",
            "  inflating: clips/798b45_0.mp4      \n",
            "  inflating: clips/798b45_1.mp4      \n",
            "  inflating: clips/798b45_2.mp4      \n",
            "  inflating: clips/798b45_3.mp4      \n",
            "  inflating: clips/798b45_4.mp4      \n",
            "  inflating: clips/798b45_5.mp4      \n",
            "  inflating: clips/798b45_6.mp4      \n",
            "  inflating: clips/798b45_7.mp4      \n",
            "  inflating: clips/798b45_8.mp4      \n",
            "  inflating: clips/798b45_9.mp4      \n",
            "  inflating: clips/a9f16c_0.mp4      \n",
            "  inflating: clips/a9f16c_1.mp4      \n",
            "  inflating: clips/a9f16c_2.mp4      \n",
            "  inflating: clips/a9f16c_3.mp4      \n",
            "  inflating: clips/a9f16c_4.mp4      \n",
            "  inflating: clips/a9f16c_5.mp4      \n",
            "  inflating: clips/a9f16c_6.mp4      \n",
            "  inflating: clips/a9f16c_7.mp4      \n",
            "  inflating: clips/a9f16c_8.mp4      \n",
            "  inflating: clips/a9f16c_9.mp4      \n",
            "  inflating: clips/c01561_0.mp4      \n",
            "  inflating: clips/c01561_1.mp4      \n",
            "  inflating: clips/c01561_2.mp4      \n",
            "  inflating: clips/c01561_3.mp4      \n",
            "  inflating: clips/c01561_4.mp4      \n",
            "  inflating: clips/c01561_5.mp4      \n",
            "  inflating: clips/c01561_6.mp4      \n",
            "  inflating: clips/c01561_7.mp4      \n",
            "  inflating: clips/c01561_8.mp4      \n",
            "  inflating: clips/c01561_9.mp4      \n",
            "  inflating: clips/cd987c_0.mp4      \n",
            "  inflating: clips/cd987c_1.mp4      \n",
            "  inflating: clips/cd987c_2.mp4      \n",
            "  inflating: clips/cd987c_3.mp4      \n",
            "  inflating: clips/cd987c_4.mp4      \n",
            "  inflating: clips/cd987c_5.mp4      \n",
            "  inflating: clips/cd987c_6.mp4      \n",
            "  inflating: clips/cd987c_7.mp4      \n",
            "  inflating: clips/cd987c_8.mp4      \n",
            "  inflating: clips/cd987c_9.mp4      \n",
            "  inflating: clips/d82e7a_0.mp4      \n",
            "  inflating: clips/d82e7a_1.mp4      \n",
            "  inflating: clips/d82e7a_2.mp4      \n",
            "  inflating: clips/d82e7a_3.mp4      \n",
            "  inflating: clips/d82e7a_4.mp4      \n",
            "  inflating: clips/d82e7a_5.mp4      \n",
            "  inflating: clips/d82e7a_6.mp4      \n",
            "  inflating: clips/d82e7a_7.mp4      \n",
            "  inflating: clips/d82e7a_8.mp4      \n",
            "  inflating: clips/d82e7a_9.mp4      \n",
            "  inflating: clips/e624c9_0.mp4      \n",
            "  inflating: clips/e624c9_1.mp4      \n",
            "  inflating: clips/e624c9_2.mp4      \n",
            "  inflating: clips/e624c9_3.mp4      \n",
            "  inflating: clips/e624c9_4.mp4      \n",
            "  inflating: clips/e624c9_5.mp4      \n",
            "  inflating: clips/e624c9_6.mp4      \n",
            "  inflating: clips/e624c9_7.mp4      \n",
            "  inflating: clips/e624c9_8.mp4      \n",
            "  inflating: clips/e624c9_9.mp4      \n",
            "  inflating: clips/ec783a_0.mp4      \n",
            "  inflating: clips/ec783a_1.mp4      \n",
            "  inflating: clips/ec783a_2.mp4      \n",
            "  inflating: clips/ec783a_3.mp4      \n",
            "  inflating: clips/ec783a_4.mp4      \n",
            "  inflating: clips/ec783a_5.mp4      \n",
            "  inflating: clips/ec783a_6.mp4      \n",
            "  inflating: clips/ec783a_7.mp4      \n",
            "  inflating: clips/ec783a_8.mp4      \n",
            "  inflating: clips/ec783a_9.mp4      \n",
            "  inflating: sample_submission.csv   \n",
            "  inflating: test/019d5b34_0.mp4     \n",
            "  inflating: test/019d5b34_1.mp4     \n",
            "  inflating: test/0b1495d3_0.mp4     \n",
            "  inflating: test/0b1495d3_1.mp4     \n",
            "  inflating: test/160606be_0.mp4     \n",
            "  inflating: test/160606be_1.mp4     \n",
            "  inflating: test/2f54ed1c_0.mp4     \n",
            "  inflating: test/2f54ed1c_1.mp4     \n",
            "  inflating: test/4dae79a9_0.mp4     \n",
            "  inflating: test/4dae79a9_1.mp4     \n",
            "  inflating: test/5dc4fe12_0.mp4     \n",
            "  inflating: test/5dc4fe12_1.mp4     \n",
            "  inflating: test/947e05ca_0.mp4     \n",
            "  inflating: test/947e05ca_1.mp4     \n",
            "  inflating: test/9a70c54e_0.mp4     \n",
            "  inflating: test/9a70c54e_1.mp4     \n",
            "  inflating: test/9d3c239b_0.mp4     \n",
            "  inflating: test/9d3c239b_1.mp4     \n",
            "  inflating: test/9f4df856_0.mp4     \n",
            "  inflating: test/9f4df856_1.mp4     \n",
            "  inflating: test/b2939d3c_0.mp4     \n",
            "  inflating: test/b2939d3c_1.mp4     \n",
            "  inflating: test/e660601b_0.mp4     \n",
            "  inflating: test/e660601b_1.mp4     \n",
            "  inflating: test/e9d974aa_0.mp4     \n",
            "  inflating: test/e9d974aa_1.mp4     \n",
            "  inflating: test/ec9f4e2b_0.mp4     \n",
            "  inflating: test/ec9f4e2b_1.mp4     \n",
            "  inflating: test/ef4c2eb9_0.mp4     \n",
            "  inflating: test/ef4c2eb9_1.mp4     \n",
            "  inflating: test/fdf84965_0.mp4     \n",
            "  inflating: test/fdf84965_1.mp4     \n",
            "  inflating: train.csv               \n",
            "  inflating: train/1606b0e6_0.mp4    \n",
            "  inflating: train/1606b0e6_1.mp4    \n",
            "  inflating: train/35bd9041_0.mp4    \n",
            "  inflating: train/35bd9041_1.mp4    \n",
            "  inflating: train/3c993bd2_0.mp4    \n",
            "  inflating: train/3c993bd2_1.mp4    \n",
            "  inflating: train/407c5a9e_1.mp4    \n",
            "  inflating: train/4ffd5986_0.mp4    \n",
            "  inflating: train/9a97dae4_1.mp4    "
          ]
        }
      ]
    },
    {
      "cell_type": "code",
      "source": [
        "!rm -r dfl-bundesliga-data-shootout.zip"
      ],
      "metadata": {
        "id": "YoKNIALa-VOV"
      },
      "execution_count": 20,
      "outputs": []
    },
    {
      "cell_type": "code",
      "source": [
        "%cd train/"
      ],
      "metadata": {
        "colab": {
          "base_uri": "https://localhost:8080/"
        },
        "id": "6GDnjpmyAXls",
        "outputId": "3b1424c7-18a3-4cc1-d399-31584037347c"
      },
      "execution_count": 24,
      "outputs": [
        {
          "output_type": "stream",
          "name": "stdout",
          "text": [
            "/content/drive/MyDrive/Datasets/DFL/train\n"
          ]
        }
      ]
    },
    {
      "cell_type": "code",
      "source": [
        "! kaggle competitions download dfl-bundesliga-data-shootout -f train/ecf251d4_0.mp4"
      ],
      "metadata": {
        "colab": {
          "base_uri": "https://localhost:8080/"
        },
        "id": "s_grXadi_aYc",
        "outputId": "7b7d5fa2-2a2c-4302-e0e3-09baf35e3e96"
      },
      "execution_count": 42,
      "outputs": [
        {
          "output_type": "stream",
          "name": "stdout",
          "text": [
            "Downloading ecf251d4_0.mp4.zip to /content/drive/MyDrive/Datasets/DFL/train\n",
            "100% 2.72G/2.72G [00:27<00:00, 105MB/s]\n",
            "100% 2.72G/2.72G [00:27<00:00, 105MB/s]\n"
          ]
        }
      ]
    },
    {
      "cell_type": "code",
      "source": [
        "!ls"
      ],
      "metadata": {
        "colab": {
          "base_uri": "https://localhost:8080/"
        },
        "id": "PH_rX9AMBr1B",
        "outputId": "cf1b0f3e-667f-460b-94dd-087254a24f58"
      },
      "execution_count": 43,
      "outputs": [
        {
          "output_type": "stream",
          "name": "stdout",
          "text": [
            "1606b0e6_0.mp4\t3c993bd2_0.mp4\t9a97dae4_1.mp4\t    cfbe2e94_1.mp4.zip\n",
            "1606b0e6_1.mp4\t3c993bd2_1.mp4\tcfbe2e94_0.mp4\t    ecf251d4_0.mp4.zip\n",
            "35bd9041_0.mp4\t407c5a9e_1.mp4\tcfbe2e94_0.mp4.zip\n",
            "35bd9041_1.mp4\t4ffd5986_0.mp4\tcfbe2e94_1.mp4\n"
          ]
        }
      ]
    },
    {
      "cell_type": "code",
      "source": [
        "!unzip ecf251d4_0.mp4.zip"
      ],
      "metadata": {
        "colab": {
          "base_uri": "https://localhost:8080/"
        },
        "id": "vpv7EnuWFvne",
        "outputId": "8a10f0d5-f709-4bf5-b394-f1c2cdd58091"
      },
      "execution_count": 44,
      "outputs": [
        {
          "output_type": "stream",
          "name": "stdout",
          "text": [
            "Archive:  ecf251d4_0.mp4.zip\n",
            "  inflating: ecf251d4_0.mp4          \n"
          ]
        }
      ]
    }
  ]
}